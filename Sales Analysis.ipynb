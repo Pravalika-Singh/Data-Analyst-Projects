{
 "cells": [
  {
   "cell_type": "markdown",
   "id": "070bc391",
   "metadata": {},
   "source": [
    "# Sales Analysis"
   ]
  },
  {
   "cell_type": "markdown",
   "id": "1c9e541c-a21d-4fe1-9a69-35ea92a37705",
   "metadata": {
    "tags": []
   },
   "source": [
    "## Data Wrangling"
   ]
  },
  {
   "cell_type": "code",
   "execution_count": null,
   "id": "1ee9caf0-c060-408a-9908-0d1f289c9539",
   "metadata": {},
   "outputs": [],
   "source": [
    "import pandas as pd\n",
    "import numpy as np\n",
    "from sklearn.preprocessing import MinMaxScaler\n",
    "import matplotlib.pyplot as plt\n",
    "import seaborn as sns\n",
    "import datetime"
   ]
  },
  {
   "cell_type": "code",
   "execution_count": null,
   "id": "a2ad72b3-4f3d-4d97-8256-c9b906baa695",
   "metadata": {},
   "outputs": [],
   "source": [
    "#Read given CSV file\n",
    "df = pd.read_csv('AusApparalSales4thqrt2020.csv', parse_dates=['Date'], dtype={'Time': str, 'State': str, 'Group': str})"
   ]
  },
  {
   "cell_type": "code",
   "execution_count": null,
   "id": "2c20bd14-0a73-41fd-bd8b-b3ffea769117",
   "metadata": {},
   "outputs": [],
   "source": [
    "df"
   ]
  },
  {
   "cell_type": "markdown",
   "id": "429af7a6-7aad-415e-a50d-99f4165574a8",
   "metadata": {},
   "source": [
    "Now Inspect data manually for missing or incorrect data using the func isna() and notna()"
   ]
  },
  {
   "cell_type": "code",
   "execution_count": null,
   "id": "1b6d833a-ee3a-41d9-ae03-d6ae63c6e815",
   "metadata": {},
   "outputs": [],
   "source": [
    "#isna() function is used for detect missing value in the given dataframe\n",
    "df.isna().sum()"
   ]
  },
  {
   "cell_type": "code",
   "execution_count": null,
   "id": "34a6f7bd-20f9-4d1b-a9c4-cc2a8f530b90",
   "metadata": {},
   "outputs": [],
   "source": [
    "#notna() function indicates whether an element is not an NA value\n",
    "df.notna().sum()"
   ]
  },
  {
   "cell_type": "markdown",
   "id": "a39a45f1-3317-425c-bb6a-0f1065b018fb",
   "metadata": {},
   "source": [
    "So,There is no missing or NA value in the given dataframe"
   ]
  },
  {
   "cell_type": "markdown",
   "id": "1000d484-c03f-4826-adde-4328aa1d9703",
   "metadata": {
    "tags": []
   },
   "source": [
    "#### Data Normalization\n",
    "For performing the data normalization, we need to separate the numeric and non numeric data. \n",
    "We will create a new dataframe called df_dataonly from the existing df object."
   ]
  },
  {
   "cell_type": "code",
   "execution_count": null,
   "id": "70629028-0a05-4215-b783-ca59c304b75e",
   "metadata": {},
   "outputs": [],
   "source": [
    "df_dataonly = df[['Unit','Sales']]"
   ]
  },
  {
   "cell_type": "code",
   "execution_count": null,
   "id": "26a1fcd9-fe04-458a-b13a-12eaeee6772a",
   "metadata": {},
   "outputs": [],
   "source": [
    "df_dataonly"
   ]
  },
  {
   "cell_type": "code",
   "execution_count": null,
   "id": "f5514861-f21d-4176-8762-dfbe93a12550",
   "metadata": {},
   "outputs": [],
   "source": [
    "#Now, from the MinMaxScalar object, create a normalize object\n",
    "normalize = MinMaxScaler()"
   ]
  },
  {
   "cell_type": "code",
   "execution_count": null,
   "id": "8dc8b497-2525-4f4e-8d20-db5c65ca1c42",
   "metadata": {},
   "outputs": [],
   "source": [
    "normalize_data = normalize.fit_transform(df_dataonly)"
   ]
  },
  {
   "cell_type": "code",
   "execution_count": null,
   "id": "311c4a36-236e-483c-b96e-fefd22455d73",
   "metadata": {},
   "outputs": [],
   "source": [
    "#normalize_data[:, [0]] will list all the values of normailzed Unit values.\n",
    "normalize_data[:, [0]]"
   ]
  },
  {
   "cell_type": "code",
   "execution_count": null,
   "id": "ee9fd289-bcfb-48a0-b480-5c82fcf4d318",
   "metadata": {},
   "outputs": [],
   "source": [
    "#normalize_data[:, [1]] will list all the values of normalized Sales values.\n",
    "normalize_data[:,[1]]"
   ]
  },
  {
   "cell_type": "markdown",
   "id": "c10692cb-71bd-4030-adb1-e2d29faef10f",
   "metadata": {},
   "source": [
    "Now, check the min and max values of each of the column. \n",
    "Min should be 0.0 and max should be 1.0, for *Unit* as well as *Sales* column."
   ]
  },
  {
   "cell_type": "code",
   "execution_count": null,
   "id": "762d05bb-969b-4481-8b21-0ba1f785f34f",
   "metadata": {},
   "outputs": [],
   "source": [
    "print(normalize_data[:, [0]].min(), normalize_data[:, [0]].max())"
   ]
  },
  {
   "cell_type": "code",
   "execution_count": null,
   "id": "273150de-75ce-4951-9c72-1da67c79fa7a",
   "metadata": {},
   "outputs": [],
   "source": [
    "print(normalize_data[:, [1]].min(), normalize_data[:, [1]].max())"
   ]
  },
  {
   "cell_type": "markdown",
   "id": "03240d20-f53a-4ede-b300-3429aa131e4b",
   "metadata": {
    "tags": []
   },
   "source": [
    "##### Checked Whole Data set For Null values and didn't found it.\n",
    "##### Data is clear for Null and outlier, "
   ]
  },
  {
   "cell_type": "markdown",
   "id": "d62c2782-c5da-4a02-8ae0-e71a5200ffb3",
   "metadata": {
    "tags": []
   },
   "source": [
    "## Data Analysis\n",
    "***Top-level description***"
   ]
  },
  {
   "cell_type": "markdown",
   "id": "5e9169c4-a479-4f3c-ae4a-b8faec8fec96",
   "metadata": {
    "tags": []
   },
   "source": [
    "### Monthy , Weekly , Quarterly Reports from the Data set.\n",
    "**Usage of the groupby() function for data chunking or merging.**"
   ]
  },
  {
   "cell_type": "markdown",
   "id": "5a082bf0-dcc5-44e9-bb73-d0f0435c7ac6",
   "metadata": {
    "tags": []
   },
   "source": [
    "# Quarterly Data Analysis"
   ]
  },
  {
   "cell_type": "code",
   "execution_count": null,
   "id": "7805c02f-9043-4ebe-9e6e-433f2af7bf9d",
   "metadata": {},
   "outputs": [],
   "source": [
    "df_data = df[['Date','Unit']]\n",
    "#df_data.plot.bar(y='Unit')\n",
    "df_data.index\n",
    "sns.barplot(x = df_data.index, y = 'Unit', data=df_data)"
   ]
  },
  {
   "cell_type": "markdown",
   "id": "fb680904-442f-4f28-953a-a15b5eb31cf5",
   "metadata": {
    "tags": []
   },
   "source": [
    "### Monthly Data Analysis\n",
    "Now, let's chunk this quarterly data into monthly data and perform the analysis. For each of the month."
   ]
  },
  {
   "cell_type": "code",
   "execution_count": null,
   "id": "46daa513-d488-4946-8542-b974d0df824e",
   "metadata": {},
   "outputs": [],
   "source": [
    "dates = df['Date']\n",
    "df_unit_and_sales = df.groupby(by='Date').sum(numeric_only = True)\n",
    "df_unit_and_sales"
   ]
  },
  {
   "cell_type": "code",
   "execution_count": null,
   "id": "3ba2a8a7-efeb-486f-8476-8caaacea4677",
   "metadata": {},
   "outputs": [],
   "source": [
    "df_oct = df_unit_and_sales.loc['2020-10-01':'2020-10-30']\n",
    "df_nov = df_unit_and_sales.loc['2020-11-01':'2020-11-30']\n",
    "df_dec = df_unit_and_sales.loc['2020-12-01':'2020-12-31']"
   ]
  },
  {
   "cell_type": "code",
   "execution_count": null,
   "id": "cace9340-f1d7-4046-a348-1e73a13915c7",
   "metadata": {},
   "outputs": [],
   "source": [
    "df_oct.plot.bar(y='Unit')\n",
    "df_oct.index\n",
    "sns.barplot(x = df_oct.index, y = 'Unit', data=df_oct)"
   ]
  },
  {
   "cell_type": "code",
   "execution_count": null,
   "id": "1b1d910d-4645-4022-bc2f-e7d1738c2815",
   "metadata": {},
   "outputs": [],
   "source": [
    "df_nov.plot.line(y='Unit')\n",
    "df_nov.index\n",
    "sns.lineplot(x = df_nov.index, y='Unit', data=df_nov)"
   ]
  },
  {
   "cell_type": "code",
   "execution_count": null,
   "id": "1da479be-ffa4-4b7c-b5b6-4de5c75e66e5",
   "metadata": {},
   "outputs": [],
   "source": [
    "df_dec.plot.bar(y='Unit')\n",
    "df_dec.index\n",
    "sns.barplot(x = df_dec.index, y = 'Unit', data=df_dec)"
   ]
  },
  {
   "cell_type": "markdown",
   "id": "51cf75bf-314a-4b3d-b09b-b5f6a57cf53f",
   "metadata": {
    "tags": []
   },
   "source": [
    "### Weekly Data Analysis\n",
    "Now, let's chunk this quarterly data into Weekly data and perform the analysis. For each of the Week."
   ]
  },
  {
   "cell_type": "code",
   "execution_count": null,
   "id": "ba963eb9-6747-4aa7-8de1-c53eb1ae1625",
   "metadata": {},
   "outputs": [],
   "source": [
    "print(df)"
   ]
  },
  {
   "cell_type": "code",
   "execution_count": null,
   "id": "f24d6900-6bb3-4225-93b0-07d6f28493eb",
   "metadata": {},
   "outputs": [],
   "source": [
    "'''df[\"Week\"] =df['Date'].apply(lambda date: datetime.date.isocalendar(date)[1])\n",
    "df.drop('State',axis=1,inplace=True)\n",
    "df.drop('Group',axis=1,inplace=True)\n",
    "df.drop('Time',axis=1,inplace=True)\n",
    "df.drop('Date',axis=1,inplace=True)\n",
    "df.drop('Unit',axis=1,inplace=True)\n",
    "df2=df.groupby(['Week']).mean()\n",
    "df2.plot()\n",
    "plt.show()\n",
    "\n",
    "print(df2.head())'''"
   ]
  },
  {
   "cell_type": "markdown",
   "id": "d8dc6453-9d4c-413d-875c-9fdd94325efe",
   "metadata": {
    "tags": []
   },
   "source": [
    "## Describing Data"
   ]
  },
  {
   "cell_type": "markdown",
   "id": "2125c690-c0a0-4904-b782-95a7e8f58703",
   "metadata": {
    "tags": []
   },
   "source": [
    "### Data Description\n",
    "Describing the data will give you the very first level information on the data with the basic information on the data such as **count**, **mean**, **std** (standard deviation), **min**, **max** and the quartiles. You will use the ***describe()*** command on the dataframe to get it. All the values are for the entire three month period."
   ]
  },
  {
   "cell_type": "code",
   "execution_count": null,
   "id": "150e6b69-09ee-4a96-8caf-5e66f3c75ae9",
   "metadata": {},
   "outputs": [],
   "source": [
    "df.describe()"
   ]
  },
  {
   "cell_type": "markdown",
   "id": "bf8142e1-cde4-4540-bc3d-7ada9295aa72",
   "metadata": {},
   "source": [
    "For individual three months, we can invole **describe()** on **df_oct**, **df_nov** and **df_dec**, as shown:"
   ]
  },
  {
   "cell_type": "code",
   "execution_count": null,
   "id": "3cfdb414-cb3a-4830-9405-c145f21795bd",
   "metadata": {},
   "outputs": [],
   "source": [
    "df_oct.describe()"
   ]
  },
  {
   "cell_type": "code",
   "execution_count": null,
   "id": "a33c2bd5-64c3-40ac-a54f-14892f58d865",
   "metadata": {},
   "outputs": [],
   "source": [
    "df_nov.describe()"
   ]
  },
  {
   "cell_type": "code",
   "execution_count": null,
   "id": "d659af6d-0dab-4898-9156-63bc5e2db7d8",
   "metadata": {},
   "outputs": [],
   "source": [
    "df_dec.describe()"
   ]
  },
  {
   "cell_type": "markdown",
   "id": "240c063d-5096-4542-9f7c-78d277542abb",
   "metadata": {
    "tags": []
   },
   "source": [
    "## Box Plot Analysis"
   ]
  },
  {
   "cell_type": "markdown",
   "id": "acedb851-9960-4ee0-a3c6-300378307e8f",
   "metadata": {
    "tags": []
   },
   "source": [
    "#### Unit Analysis"
   ]
  },
  {
   "cell_type": "code",
   "execution_count": null,
   "id": "3a4fc24a-4a2f-41a9-b8b1-4c3606bc4207",
   "metadata": {},
   "outputs": [],
   "source": [
    "sns.set(rc={'figure.figsize':(6,7)})\n",
    "bp_oct = sns.boxplot(x='Unit', data=df_oct)\n",
    "bp_oct.set(title='October Units')"
   ]
  },
  {
   "cell_type": "markdown",
   "id": "02b42021-bebd-4a51-8ba8-40c51899500c",
   "metadata": {},
   "source": [
    "In the above boxplot, you can see the variation in the quartiles of the **Unit** values for the month of October, it is rather wide-spread with a mean value of \"1523\""
   ]
  },
  {
   "cell_type": "code",
   "execution_count": null,
   "id": "7b8c58e7-57c6-4e4c-9310-e1b31da5f862",
   "metadata": {},
   "outputs": [],
   "source": [
    "sns.set(rc={'figure.figsize':(6,7)})\n",
    "bp_nov = sns.boxplot(x='Unit', data=df_nov)\n",
    "bp_nov.set(title='November Units')"
   ]
  },
  {
   "cell_type": "markdown",
   "id": "d0037c35-10a6-4ab6-8b4c-395e8f201a31",
   "metadata": {},
   "source": [
    "In the above boxplot, you can see the variation in the quartiles of the **Unit** values for the month of November, it is rather wide-spread with a mean value of \"1209\""
   ]
  },
  {
   "cell_type": "code",
   "execution_count": null,
   "id": "a6666bde-5afb-4b18-9428-c92bfee602e4",
   "metadata": {},
   "outputs": [],
   "source": [
    "sns.set(rc={'figure.figsize':(6,7)})\n",
    "bp_dec = sns.boxplot(x='Unit', data=df_dec)\n",
    "bp_dec.set(title='December Units')"
   ]
  },
  {
   "cell_type": "markdown",
   "id": "e8457b8b-b1b6-4bdd-a448-adfefae79245",
   "metadata": {},
   "source": [
    "In the above boxplot, you can see the variation in the quartiles of the **Unit** values for the month of November, it is rather wide-spread with a mean value of \"1804\". \n"
   ]
  },
  {
   "cell_type": "markdown",
   "id": "8a1456e6-a9a1-423a-8f06-dc1660ff2f5b",
   "metadata": {
    "tags": []
   },
   "source": [
    "#### Sales Analysis"
   ]
  },
  {
   "cell_type": "code",
   "execution_count": null,
   "id": "8cb006c7-5ee8-4bf4-a642-a8a390d8855f",
   "metadata": {},
   "outputs": [],
   "source": [
    "sns.set(rc={'figure.figsize':(6,7)})\n",
    "bp_oct = sns.boxplot(x='Sales', data=df_oct)\n",
    "bp_oct.set(title='October Sales')"
   ]
  },
  {
   "cell_type": "markdown",
   "id": "fe76b514-834a-4519-88fa-40dffc0e533d",
   "metadata": {},
   "source": [
    "In the above boxplot, you can see the variation in the quartiles of the **Sales** values for the month of October, it is rather wide-spread with a mean value of \"3.809667e+06\""
   ]
  },
  {
   "cell_type": "code",
   "execution_count": null,
   "id": "8efd52b0-d331-4d07-b828-056aa97eb4a7",
   "metadata": {},
   "outputs": [],
   "source": [
    "sns.set(rc={'figure.figsize':(6,7)})\n",
    "bp_oct = sns.boxplot(x='Sales', data=df_nov)\n",
    "bp_oct.set(title='November Sales')"
   ]
  },
  {
   "cell_type": "markdown",
   "id": "4d1e4abb-8db1-489e-9c0d-afa5c6d2a1fd",
   "metadata": {},
   "source": [
    "In the above boxplot, you can see the variation in the quartiles of the **Sales** values for the month of November, it is rather wide-spread with a mean value of \"3.022750e+06\""
   ]
  },
  {
   "cell_type": "code",
   "execution_count": null,
   "id": "2f86f60e-c28c-42d3-affe-fcfc87339aad",
   "metadata": {},
   "outputs": [],
   "source": [
    "sns.set(rc={'figure.figsize':(6,7)})\n",
    "bp_oct = sns.boxplot(x='Sales', data=df_dec)\n",
    "bp_oct.set(title='December Sales')"
   ]
  },
  {
   "cell_type": "markdown",
   "id": "af3aeadd-1083-45c2-b535-3f989f797b6f",
   "metadata": {},
   "source": [
    "In the above boxplot, you can see the variation in the quartiles of the **Sales** values for the month of December, it is rather wide-spread with a mean value of \"4.511000e+06\""
   ]
  },
  {
   "cell_type": "markdown",
   "id": "62cc19d1-ee11-48f7-a195-49c5c5b9aefc",
   "metadata": {},
   "source": [
    "***Note : These above Values are consolidated or aggregated across multiple categorical variables: State, Group, and Time.***"
   ]
  },
  {
   "cell_type": "markdown",
   "id": "5b81dcdb-3a97-4a79-afa9-8cc2d4d598da",
   "metadata": {
    "tags": []
   },
   "source": [
    "### Monthly Plots and Analysis\n",
    "In the above section, we separated the data monthly wise and performed the top-level description to get the main statistics of the sales. In this section, we will plot, month-wise and do a comparative study on the numbers.\n",
    "\n",
    "### ***Overall Unit and Sales figures***"
   ]
  },
  {
   "cell_type": "code",
   "execution_count": null,
   "id": "4817e4a3-0d68-4065-90e1-01a5c4850cb0",
   "metadata": {},
   "outputs": [],
   "source": [
    "oct_days = df_oct.index.day\n",
    "oct_days.astype('str')\n",
    "nov_days = df_nov.index.day\n",
    "nov_days.astype('str')\n",
    "dec_days = df_dec.index.day\n",
    "dec_days.astype('str')"
   ]
  },
  {
   "cell_type": "markdown",
   "id": "33a5c36a-376d-4292-8f8b-fd4506ffafb7",
   "metadata": {
    "tags": []
   },
   "source": [
    "#### Units sold in October, November and December"
   ]
  },
  {
   "cell_type": "code",
   "execution_count": null,
   "id": "1bab6dbb-5b6f-40ed-9a45-20eeba50bfa7",
   "metadata": {},
   "outputs": [],
   "source": [
    "sns.set(rc={'figure.figsize':(15,6)})\n",
    "bp_oct = sns.barplot(x = df_oct.index, y='Unit', data=df_oct)\n",
    "#bp_dec = sns.barplot(x = df_dec.index, y='Unit', data=df_dec)\n",
    "bp_oct.set(xlabel='Oct 2020', title='October Units')\n",
    "#bp_dec.set(xlabel='Dev 2020', title='December Units')\n",
    "bp_oct.set(ylim=(1000, 2000))\n",
    "o = bp_oct.set_xticklabels(oct_days)"
   ]
  },
  {
   "cell_type": "code",
   "execution_count": null,
   "id": "8f27da25-f2a9-4e0c-803c-77b0595e34eb",
   "metadata": {},
   "outputs": [],
   "source": [
    "sns.set(rc={'figure.figsize':(15,6)})\n",
    "bp_nov = sns.barplot(x = df_nov.index, y='Unit', data=df_nov)\n",
    "bp_nov.set(xlabel='Nov 2020', title='November Units')\n",
    "bp_nov.set(ylim=(1000, 2000))\n",
    "n = bp_nov.set_xticklabels(nov_days)"
   ]
  },
  {
   "cell_type": "code",
   "execution_count": null,
   "id": "a9fe73d9-2561-436a-8a8c-b29b7337cd9e",
   "metadata": {},
   "outputs": [],
   "source": [
    "sns.set(rc={'figure.figsize':(15,6)})\n",
    "bp_dec = sns.barplot(x = df_dec.index, y='Unit', data=df_dec)\n",
    "bp_dec.set(xlabel='Dec 2020', title='December Units')\n",
    "bp_dec.set(ylim=(1000, 2000))\n",
    "d = bp_dec.set_xticklabels(dec_days)"
   ]
  },
  {
   "cell_type": "markdown",
   "id": "4f0a70d5-fe1b-4e93-bf7e-01a4228ce9b2",
   "metadata": {},
   "source": [
    "As you can see, the above plots shows a mean value of 1523 units for the month of October, 1209 for the month of November and 1804 for the month of December. As you can see these numbers are endorsed by the describe() command previously. Accordingly, November month was leaner in Unit sales, than October and December of 2020."
   ]
  },
  {
   "cell_type": "markdown",
   "id": "1bd28cf4-367a-417b-8652-2c60b4a9a476",
   "metadata": {
    "tags": []
   },
   "source": [
    "#### Sales numbers for October, November and December"
   ]
  },
  {
   "cell_type": "code",
   "execution_count": null,
   "id": "1b2a563f-2bfe-42e6-95d2-06744787f511",
   "metadata": {},
   "outputs": [],
   "source": [
    "import matplotlib\n",
    "sns.set(rc={'figure.figsize':(25,6)})\n",
    "lp_oct = sns.lineplot(x = df_oct.index, y = 'Sales', data=df_oct)\n",
    "loc = matplotlib.dates.DayLocator(bymonthday=range(1, 30,2))\n",
    "lp_oct.set(ylim=(2.5e6, 5.0e6))\n",
    "lp_oct.set(xlabel='Oct 2020', title='October Sales')\n",
    "lp_oct.xaxis.set_major_locator(loc)"
   ]
  },
  {
   "cell_type": "code",
   "execution_count": null,
   "id": "eafea8c3-9b9e-4dad-b7a8-896cfaaa6679",
   "metadata": {},
   "outputs": [],
   "source": [
    "sns.set(rc={'figure.figsize':(25,6)})\n",
    "lp_nov = sns.lineplot(x = df_nov.index, y = 'Sales', data=df_nov)\n",
    "loc = matplotlib.dates.DayLocator(bymonthday=range(1, 30,2))\n",
    "lp_nov.set(ylim=(2.5e6, 5.0e6))\n",
    "lp_nov.set(xlabel='Nov 2020', title='November Sales')\n",
    "lp_nov.xaxis.set_major_locator(loc)"
   ]
  },
  {
   "cell_type": "code",
   "execution_count": null,
   "id": "7fbb0e8e-a97b-410f-bbc9-e091801d0618",
   "metadata": {},
   "outputs": [],
   "source": [
    "sns.set(rc={'figure.figsize':(25,6)})\n",
    "lp_dec = sns.lineplot(x = df_dec.index, y = 'Sales', data=df_dec)\n",
    "loc = matplotlib.dates.DayLocator(bymonthday=range(1, 30,2))\n",
    "lp_dec.set(ylim=(2.5e6, 5.0e6))\n",
    "lp_dec.set(xlabel='Dec 2020', title='December Sales')\n",
    "lp_dec.xaxis.set_major_locator(loc)"
   ]
  },
  {
   "cell_type": "markdown",
   "id": "fd068e87-8b55-4307-83a2-2275f100be6b",
   "metadata": {},
   "source": [
    "In the above plots, we are using lineplot for seaborn, and the sales figures are plotted for each month. Also, you can see, the y axis is same for all the plots, and based on the available numbers, December was most productive in terms of the monthly sales."
   ]
  },
  {
   "cell_type": "markdown",
   "id": "20ce8bb3-3023-40cd-ab33-2d4b1d618f8c",
   "metadata": {
    "tags": []
   },
   "source": [
    "## Consolidated 3 month Sales plot"
   ]
  },
  {
   "cell_type": "code",
   "execution_count": null,
   "id": "dcb5d8ea-74d7-4b46-89fb-3f3743860eb8",
   "metadata": {},
   "outputs": [],
   "source": [
    "sns.set(rc={'figure.figsize':(25,10)})\n",
    "sns.lineplot(x = 'Date', y = 'Sales', data = df)"
   ]
  },
  {
   "cell_type": "markdown",
   "id": "571c3dd5-2af0-4d24-8f1a-94c79a2857b0",
   "metadata": {},
   "source": [
    "In the above typical Sales figures, using the lineplot of seaborn. Notice that we are using the original dataframe object **df**, and this has all the three months of data, as against the previous three, where the three sub-dataframes are separated by **groupby()** feature of pandas. One more point to be noted here. This plot is different from the plot above, and this is evident from the values of y-axis. The difference here is that the above figures are consolidated data for each month, including the **Group** and **Time** data, which are categorical in nature.\n",
    "\n",
    "One more aspect of this is that this line plot is inclusive of stastical estimation and errors bars that are superimposed on the line plot. This is the special feature of seaborn. This is provided eventhough it is not asked for."
   ]
  },
  {
   "cell_type": "markdown",
   "id": "42c0ab60-4b80-4e4c-9344-51b8dfa2dbdb",
   "metadata": {
    "tags": []
   },
   "source": [
    "## Comprehensive Snapshot\n",
    "The following are the complete month-wise snapshots that shows monthly Units sales on the top-row, and monthly Sales in the bottom. The sub-plot feature is used to get a complets comprehensive shanshot for the three months."
   ]
  },
  {
   "cell_type": "code",
   "execution_count": null,
   "id": "dded3bb8-37ac-4305-bb7d-981133286f64",
   "metadata": {},
   "outputs": [],
   "source": [
    "fig, axes = plt.subplots(2, 3)\n",
    "\n",
    "bp_oct = sns.barplot(x = df_oct.index, y='Unit', data=df_oct, ax=axes[0,0])\n",
    "bp_nov = sns.barplot(x = df_nov.index, y='Unit', data=df_nov, ax=axes[0,1])\n",
    "bp_dec = sns.barplot(x = df_dec.index, y='Unit', data=df_dec, ax=axes[0,2])\n",
    "\n",
    "bp_oct.set(xlabel='Oct 2020', title='October Units')\n",
    "bp_nov.set(xlabel='Nov 2020', title='November Units')\n",
    "bp_dec.set(xlabel='Dev 2020', title='December Units')\n",
    "\n",
    "bp_oct.set(ylim=(1000, 2000))\n",
    "bp_nov.set(ylim=(1000, 2000))\n",
    "bp_dec.set(ylim=(1000, 2000))\n",
    "\n",
    "o = bp_oct.set_xticklabels(oct_days)\n",
    "n = bp_nov.set_xticklabels(nov_days)\n",
    "d = bp_dec.set_xticklabels(dec_days)\n",
    "\n",
    "lp_oct = sns.lineplot(x = df_oct.index, y='Sales', data=df_oct, ax=axes[1,0])\n",
    "lp_nov = sns.lineplot(x = df_nov.index, y='Sales', data=df_nov, ax=axes[1,1])\n",
    "lp_dec = sns.lineplot(x = df_dec.index, y='Sales', data=df_dec, ax=axes[1,2])\n",
    "\n",
    "lp_oct.set(ylim=(2.5e6, 5.0e6))\n",
    "lp_nov.set(ylim=(2.5e6, 5.0e6))\n",
    "lp_dec.set(ylim=(2.5e6, 5.0e6))"
   ]
  },
  {
   "cell_type": "markdown",
   "id": "f224ad8d-4d83-492b-a469-f24fee33265a",
   "metadata": {},
   "source": [
    "## Analysis of Statewise sales in Australia"
   ]
  },
  {
   "cell_type": "markdown",
   "id": "07a203c3-5726-43e2-b255-64fac4803799",
   "metadata": {},
   "source": [
    "In the next, we are going to perform the analysis based on the categorical data of the problem. There are three main categories - **State**, **Group** and **Time**. In the first, we are going to pivot our main dataframe ```df``` indexed on **State**, and also we are providing 2 ```aggfunc```tions for computing - ```sum``` and ```mean```. The reporting will be state-wise, and we are calling it as ```state_pivot```. As you can see from the output, both ```sum``` and ```mean``` for ***Unit*** and ***Sales*** are reported."
   ]
  },
  {
   "cell_type": "code",
   "execution_count": null,
   "id": "31f0ff40-c4e1-4577-b453-249b370ed5a8",
   "metadata": {},
   "outputs": [],
   "source": [
    "state_pivot = df.pivot_table(index='State', values=['Unit', 'Sales'], aggfunc=['sum', 'mean'])\n",
    "\n",
    "state_pivot\n"
   ]
  },
  {
   "cell_type": "code",
   "execution_count": null,
   "id": "86dc0f71",
   "metadata": {},
   "outputs": [],
   "source": [
    "labels = state_pivot['mean']['Sales'].index.to_list()\n",
    "# print(labels)\n",
    "colors = sns.color_palette('pastel')[0:7]\n",
    "plt.pie(state_pivot['mean']['Sales'], labels=labels, colors=colors, autopct='%.2f%%')\n",
    "plt.show()"
   ]
  },
  {
   "cell_type": "markdown",
   "id": "4195b7a6",
   "metadata": {},
   "source": [
    "From the above pie chart, we understand that more than 70% of the business come from the three states VIC(31.02%), NSW(22.03%) and SA(17.30%). Remaining states contribute just about 30%. This is based on the mean **Sales** data."
   ]
  },
  {
   "cell_type": "markdown",
   "id": "6a840d85",
   "metadata": {},
   "source": [
    "### Groupwise Analysis"
   ]
  },
  {
   "cell_type": "markdown",
   "id": "4a72f7c4",
   "metadata": {},
   "source": [
    "Now, we are going to perform the analysis based on the next categorical data of the problem - **Group**.  Here, we are going to pivot our main dataframe ```df``` indexed on **Group**, and also we are providing the same two ```aggfunc```tions for computing - ```sum``` and ```mean```. The reporting will be state-wise, and we are calling it as ```group_pivot```. As you can see from the output, both ```sum``` and ```mean``` for ***Unit*** and ***Sales*** are reported."
   ]
  },
  {
   "cell_type": "code",
   "execution_count": null,
   "id": "57e9a427",
   "metadata": {},
   "outputs": [],
   "source": [
    "group_pivot = df.pivot_table(index='Group',values=['Unit','Sales'], aggfunc=['sum', 'mean'])\n",
    "\n",
    "group_pivot"
   ]
  },
  {
   "cell_type": "code",
   "execution_count": null,
   "id": "e3b91d83",
   "metadata": {},
   "outputs": [],
   "source": [
    "labels = group_pivot['mean']['Sales'].index.to_list()\n",
    "# print(labels)\n",
    "colors = sns.color_palette('pastel')[0:5]\n",
    "plt.pie(group_pivot['mean']['Sales'], labels=labels, colors=colors, autopct='%.2f%%')\n",
    "plt.show()"
   ]
  },
  {
   "cell_type": "markdown",
   "id": "4be17327",
   "metadata": {},
   "source": [
    "The group-wise distribution shows an interesting picture. **Men**(25.20%), **Women**(25.11%), **Kids**(25.00%) and **Seniors**(24.69%) have almost equal share, in terms of the value of sales for the entire three-month period."
   ]
  },
  {
   "cell_type": "markdown",
   "id": "08f5ca22",
   "metadata": {},
   "source": [
    "### Timewise Analysis"
   ]
  },
  {
   "cell_type": "markdown",
   "id": "8c951bc4",
   "metadata": {},
   "source": [
    "In the next, we are going to perform the analysis based on the next categorical data of the problem - **Time**.  Here, we are going to pivot our main dataframe ```df``` indexed on **Time**, and also we are providing the same two ```aggfunctions``` for computing - ```sum``` and ```mean```. The reporting will be state-wise, and we are calling it as ```time_pivot```. As you can see from the output, both ```sum``` and ```mean``` for **Unit** and **Sales** are reported."
   ]
  },
  {
   "cell_type": "code",
   "execution_count": null,
   "id": "6eb9a9a2",
   "metadata": {},
   "outputs": [],
   "source": [
    "time_pivot = df.pivot_table(index='Time',values=['Unit','Sales'], aggfunc=['sum', 'mean'])\n",
    "\n",
    "time_pivot"
   ]
  },
  {
   "cell_type": "code",
   "execution_count": null,
   "id": "19dabc23",
   "metadata": {},
   "outputs": [],
   "source": [
    "labels = time_pivot['mean']['Sales'].index.to_list()\n",
    "# print(labels)\n",
    "colors = sns.color_palette('pastel')[0:5]\n",
    "plt.pie(time_pivot['mean']['Sales'], labels=labels, colors=colors, autopct='%.2f%%')\n",
    "plt.show()"
   ]
  },
  {
   "cell_type": "markdown",
   "id": "b19ad585",
   "metadata": {},
   "source": [
    "The time of sale doesn't matter for the company because, almost equally distributed in terms of **Morning**(33.56%), **Afternoon**(33.50%) or **Evening**(32.94%) for Sales."
   ]
  },
  {
   "cell_type": "markdown",
   "id": "109213c2",
   "metadata": {},
   "source": [
    "# ***Report***"
   ]
  },
  {
   "cell_type": "markdown",
   "id": "f18512d6",
   "metadata": {},
   "source": [
    "***Time Period:*** The analysis is based on three months of data - October, November, and December 2020. It’s important to note that the data for October 31, 2020, is missing and has been excluded from the analysis.\n",
    "\n",
    "***Monthly Performance:*** The business saw subdued activity in November, with both Units and Sales experiencing a downturn. However, December witnessed a significant rebound with performance approximately 1.5 times that of November.\n",
    "\n",
    "***State-wise Analysis:*** The sales were majorly contributed by three states - VIC, NSW, and SA, which together accounted for about 70% of the overall three-month sales. The remaining states contributed around 30% to the overall sales. Among all, VIC emerged as the top-performing state, while WA, NT, and TAS lagged behind with a contribution of just 7% each.\n",
    "\n",
    "***Age Group Analysis:*** The apparels were equally popular among all age groups - kids, men, women, or seniors, indicating a broad appeal of the products.\n",
    "\n",
    "***Business Hours:*** There was no specific time that was bad for business. The store was equally busy during all its operating hours.\n",
    "\n",
    "***This analysis provides valuable insights into the sales performance of the business over the given period. It can help in making informed decisions for future business strategies, such as focusing more on the high-performing states and times, and devising targeted marketing strategies for different age groups.***\n",
    "\n",
    "***Sales analysis is a process that assesses, analyzes, and monitors a business’s sales efforts. It may include capturing, filtering, and analyzing sales data to evaluate past sales performance and predict future sales figures. Sales analysis aids in making strategic business decisions and developing effective sales tactics and strategies.***\n",
    "\n",
    "***Sales analytics refers to the use of technology to collect and use sales data to derive actionable insights. It is used to identify, optimize, and forecast sales. It uses different metrics and KPIs to plan an efficient sales model that generates higher revenue for the business***"
   ]
  },
  {
   "cell_type": "markdown",
   "id": "075f8acc",
   "metadata": {},
   "source": [
    "It provides valuable insights into the sales performance of the business over the three months - October, November, and December 2020. Here are the important insights from my analysis:\n",
    "\n",
    "***Monthly Performance:*** November saw subdued activity with both Units and Sales experiencing a downturn. However, December witnessed a significant rebound with performance approximately 1.5 times that of November.\n",
    "\n",
    "***State-wise Analysis:*** The majority of the sales (around 70%) were contributed by just three states - VIC, NSW, and SA. The remaining states contributed around 30% to the overall sales. VIC emerged as the top-performing state, while WA, NT, and TAS lagged behind with a contribution of just 7% each.\n",
    "\n",
    "***Popularity Among Different Age Groups:*** The apparels were equally popular among all age groups - kids, men, women, or seniors, indicating a broad appeal of the products.\n",
    "***Business Hours:*** There was no specific time that was bad for business. The store was equally busy during all its operating hours.\n",
    "\n",
    "***This analysis can help in making informed decisions for future business strategies, such as focusing more on the high-performing states and times, and devising targeted marketing strategies for different age groups.***"
   ]
  },
  {
   "cell_type": "markdown",
   "id": "79d1f82e",
   "metadata": {},
   "source": []
  }
 ],
 "metadata": {
  "kernelspec": {
   "display_name": "Python 3 [3.10]",
   "language": "python",
   "name": "python3"
  },
  "language_info": {
   "codemirror_mode": {
    "name": "ipython",
    "version": 3
   },
   "file_extension": ".py",
   "mimetype": "text/x-python",
   "name": "python",
   "nbconvert_exporter": "python",
   "pygments_lexer": "ipython3",
   "version": "3.11.5"
  }
 },
 "nbformat": 4,
 "nbformat_minor": 5
}
